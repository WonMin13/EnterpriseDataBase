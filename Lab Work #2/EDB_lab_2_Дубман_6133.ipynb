{
  "nbformat": 4,
  "nbformat_minor": 0,
  "metadata": {
    "colab": {
      "provenance": [],
      "collapsed_sections": [
        "DV7ZXAHvIay0",
        "QJA5JBeJJQ0F"
      ],
      "authorship_tag": "ABX9TyPPuDYtBvIv142ryazjMOkd",
      "include_colab_link": true
    },
    "kernelspec": {
      "name": "python3",
      "display_name": "Python 3"
    },
    "language_info": {
      "name": "python"
    }
  },
  "cells": [
    {
      "cell_type": "markdown",
      "metadata": {
        "id": "view-in-github",
        "colab_type": "text"
      },
      "source": [
        "<a href=\"https://colab.research.google.com/github/WonMin13/EnterpriseDataBase/blob/main/Lab%20Work%20%232/EDB_lab_2_%D0%94%D1%83%D0%B1%D0%BC%D0%B0%D0%BD_6133.ipynb\" target=\"_parent\"><img src=\"https://colab.research.google.com/assets/colab-badge.svg\" alt=\"Open In Colab\"/></a>"
      ]
    },
    {
      "cell_type": "markdown",
      "source": [
        "# Лабораторная работа №2 Машинное обучение по курсу \"Databases in Enterprise Systems\""
      ],
      "metadata": {
        "id": "g1u73JzBIVyt"
      }
    },
    {
      "cell_type": "markdown",
      "source": [
        "Выполнил студент группы 6133-010402D Дубман Любовь"
      ],
      "metadata": {
        "id": "LgLbWAnmIav8"
      }
    },
    {
      "cell_type": "markdown",
      "source": [
        "## Задание на лабораторную работу"
      ],
      "metadata": {
        "id": "DV7ZXAHvIay0"
      }
    },
    {
      "cell_type": "markdown",
      "source": [
        "1. Сформулировать задачу машинного обучения для БД из 1 лабораторной, которую собираетесь решать.\n",
        "\n",
        "2. Разделить данные из БД на тренировочные и тестовые.\n",
        "3. Определить вектор признаков для данных вашей предметной области. Самая сложная часть работы, от которой зависит дальнейшая эффективность машинного обучения, советую ориентироваться на существующие принципы выбора признаков и предварительной обработки данных в выбранной предметной области.\n",
        "4. Выбрать тип классификатора: от самых простых kNN и линейного до нейронных сетей и RandomForest.\n",
        "5. Оценить оптимальные значения гиперпараметров. Построить соответствующие зависимости качества распознавания от гиперпараметров.\n",
        "6. Обучить классификатор на тренировочной выборке и оценить его эффективность на тестовой выборке."
      ],
      "metadata": {
        "id": "ouzdeku5I1cV"
      }
    },
    {
      "cell_type": "markdown",
      "source": [
        "## Выполнение лабораторной работы"
      ],
      "metadata": {
        "id": "I2HMHwVLJKJk"
      }
    },
    {
      "cell_type": "markdown",
      "source": [
        "### Этап 0"
      ],
      "metadata": {
        "id": "QJA5JBeJJQ0F"
      }
    },
    {
      "cell_type": "markdown",
      "source": [
        "Задача машинного обучения состоит в разработке модели, способной предсказывать наличие или отсутствие диабета у пациентов на основе клинических данных. Для этого используются данные, включающие в себя информацию о беременности, уровне глюкозы, кровяном давлении, состоянии кожи, уровне инсулина, индексе массы тела, наличии родословной диабета и возрасте пациента. Модель должна обучаться на исторических данных, после чего её эффективность будет оцениваться на новых наблюдениях, позволяя определять риск развития диабета у пациентов и принимать соответствующие меры профилактики или лечения."
      ],
      "metadata": {
        "id": "OX2IwXPqU073"
      }
    },
    {
      "cell_type": "markdown",
      "source": [
        "### Этап 1"
      ],
      "metadata": {
        "id": "3CmCuEseLHeV"
      }
    },
    {
      "cell_type": "markdown",
      "source": [
        "**Подключение бибилотек**"
      ],
      "metadata": {
        "id": "KtFQvY4OJa-3"
      }
    },
    {
      "cell_type": "code",
      "execution_count": 1,
      "metadata": {
        "id": "bCNV7ujjGeC-"
      },
      "outputs": [],
      "source": [
        "import pandas as pd\n",
        "import numpy as np\n",
        "import seaborn as sns\n",
        "import matplotlib.pyplot as plt\n",
        "from sklearn.model_selection import train_test_split, GridSearchCV\n",
        "from sklearn.tree import DecisionTreeClassifier\n",
        "from sklearn.ensemble import RandomForestClassifier\n",
        "from sklearn.neighbors import KNeighborsClassifier\n",
        "from sklearn.pipeline import Pipeline\n",
        "from sklearn.preprocessing import MinMaxScaler\n",
        "from sklearn.metrics import classification_report, accuracy_score\n",
        "from warnings import filterwarnings\n",
        "filterwarnings(\"ignore\")"
      ]
    },
    {
      "cell_type": "markdown",
      "source": [
        "**Подключение Google Drive**"
      ],
      "metadata": {
        "id": "ELcdvawHJpKq"
      }
    },
    {
      "cell_type": "code",
      "source": [
        "from google.colab import drive\n",
        "drive.mount('/content/drive')"
      ],
      "metadata": {
        "id": "d6xEF64mJrNp",
        "colab": {
          "base_uri": "https://localhost:8080/"
        },
        "outputId": "360bc3ce-81e4-4b46-fda5-1ac9e5492aa9"
      },
      "execution_count": 2,
      "outputs": [
        {
          "output_type": "stream",
          "name": "stdout",
          "text": [
            "Mounted at /content/drive\n"
          ]
        }
      ]
    },
    {
      "cell_type": "markdown",
      "source": [
        "**Загрузка данных**"
      ],
      "metadata": {
        "id": "EDKM9cIGJrdC"
      }
    },
    {
      "cell_type": "code",
      "source": [
        "dataframe = pd.read_csv(\"/content/drive/MyDrive/datasets/diabetes.csv\")\n",
        "dataframe"
      ],
      "metadata": {
        "id": "AAk8dgtwJr4r",
        "colab": {
          "base_uri": "https://localhost:8080/",
          "height": 423
        },
        "outputId": "70ebdf26-f845-48cf-f481-c35d7e354318"
      },
      "execution_count": 3,
      "outputs": [
        {
          "output_type": "execute_result",
          "data": {
            "text/plain": [
              "     Pregnancies  Glucose  BloodPressure  SkinThickness  Insulin   BMI  \\\n",
              "0              6      148             72             35        0  33.6   \n",
              "1              1       85             66             29        0  26.6   \n",
              "2              8      183             64              0        0  23.3   \n",
              "3              1       89             66             23       94  28.1   \n",
              "4              0      137             40             35      168  43.1   \n",
              "..           ...      ...            ...            ...      ...   ...   \n",
              "763           10      101             76             48      180  32.9   \n",
              "764            2      122             70             27        0  36.8   \n",
              "765            5      121             72             23      112  26.2   \n",
              "766            1      126             60              0        0  30.1   \n",
              "767            1       93             70             31        0  30.4   \n",
              "\n",
              "     DiabetesPedigreeFunction  Age  Outcome  \n",
              "0                       0.627   50        1  \n",
              "1                       0.351   31        0  \n",
              "2                       0.672   32        1  \n",
              "3                       0.167   21        0  \n",
              "4                       2.288   33        1  \n",
              "..                        ...  ...      ...  \n",
              "763                     0.171   63        0  \n",
              "764                     0.340   27        0  \n",
              "765                     0.245   30        0  \n",
              "766                     0.349   47        1  \n",
              "767                     0.315   23        0  \n",
              "\n",
              "[768 rows x 9 columns]"
            ],
            "text/html": [
              "\n",
              "  <div id=\"df-5e34d2d8-21db-41dd-b9c1-efa09ca589cb\" class=\"colab-df-container\">\n",
              "    <div>\n",
              "<style scoped>\n",
              "    .dataframe tbody tr th:only-of-type {\n",
              "        vertical-align: middle;\n",
              "    }\n",
              "\n",
              "    .dataframe tbody tr th {\n",
              "        vertical-align: top;\n",
              "    }\n",
              "\n",
              "    .dataframe thead th {\n",
              "        text-align: right;\n",
              "    }\n",
              "</style>\n",
              "<table border=\"1\" class=\"dataframe\">\n",
              "  <thead>\n",
              "    <tr style=\"text-align: right;\">\n",
              "      <th></th>\n",
              "      <th>Pregnancies</th>\n",
              "      <th>Glucose</th>\n",
              "      <th>BloodPressure</th>\n",
              "      <th>SkinThickness</th>\n",
              "      <th>Insulin</th>\n",
              "      <th>BMI</th>\n",
              "      <th>DiabetesPedigreeFunction</th>\n",
              "      <th>Age</th>\n",
              "      <th>Outcome</th>\n",
              "    </tr>\n",
              "  </thead>\n",
              "  <tbody>\n",
              "    <tr>\n",
              "      <th>0</th>\n",
              "      <td>6</td>\n",
              "      <td>148</td>\n",
              "      <td>72</td>\n",
              "      <td>35</td>\n",
              "      <td>0</td>\n",
              "      <td>33.6</td>\n",
              "      <td>0.627</td>\n",
              "      <td>50</td>\n",
              "      <td>1</td>\n",
              "    </tr>\n",
              "    <tr>\n",
              "      <th>1</th>\n",
              "      <td>1</td>\n",
              "      <td>85</td>\n",
              "      <td>66</td>\n",
              "      <td>29</td>\n",
              "      <td>0</td>\n",
              "      <td>26.6</td>\n",
              "      <td>0.351</td>\n",
              "      <td>31</td>\n",
              "      <td>0</td>\n",
              "    </tr>\n",
              "    <tr>\n",
              "      <th>2</th>\n",
              "      <td>8</td>\n",
              "      <td>183</td>\n",
              "      <td>64</td>\n",
              "      <td>0</td>\n",
              "      <td>0</td>\n",
              "      <td>23.3</td>\n",
              "      <td>0.672</td>\n",
              "      <td>32</td>\n",
              "      <td>1</td>\n",
              "    </tr>\n",
              "    <tr>\n",
              "      <th>3</th>\n",
              "      <td>1</td>\n",
              "      <td>89</td>\n",
              "      <td>66</td>\n",
              "      <td>23</td>\n",
              "      <td>94</td>\n",
              "      <td>28.1</td>\n",
              "      <td>0.167</td>\n",
              "      <td>21</td>\n",
              "      <td>0</td>\n",
              "    </tr>\n",
              "    <tr>\n",
              "      <th>4</th>\n",
              "      <td>0</td>\n",
              "      <td>137</td>\n",
              "      <td>40</td>\n",
              "      <td>35</td>\n",
              "      <td>168</td>\n",
              "      <td>43.1</td>\n",
              "      <td>2.288</td>\n",
              "      <td>33</td>\n",
              "      <td>1</td>\n",
              "    </tr>\n",
              "    <tr>\n",
              "      <th>...</th>\n",
              "      <td>...</td>\n",
              "      <td>...</td>\n",
              "      <td>...</td>\n",
              "      <td>...</td>\n",
              "      <td>...</td>\n",
              "      <td>...</td>\n",
              "      <td>...</td>\n",
              "      <td>...</td>\n",
              "      <td>...</td>\n",
              "    </tr>\n",
              "    <tr>\n",
              "      <th>763</th>\n",
              "      <td>10</td>\n",
              "      <td>101</td>\n",
              "      <td>76</td>\n",
              "      <td>48</td>\n",
              "      <td>180</td>\n",
              "      <td>32.9</td>\n",
              "      <td>0.171</td>\n",
              "      <td>63</td>\n",
              "      <td>0</td>\n",
              "    </tr>\n",
              "    <tr>\n",
              "      <th>764</th>\n",
              "      <td>2</td>\n",
              "      <td>122</td>\n",
              "      <td>70</td>\n",
              "      <td>27</td>\n",
              "      <td>0</td>\n",
              "      <td>36.8</td>\n",
              "      <td>0.340</td>\n",
              "      <td>27</td>\n",
              "      <td>0</td>\n",
              "    </tr>\n",
              "    <tr>\n",
              "      <th>765</th>\n",
              "      <td>5</td>\n",
              "      <td>121</td>\n",
              "      <td>72</td>\n",
              "      <td>23</td>\n",
              "      <td>112</td>\n",
              "      <td>26.2</td>\n",
              "      <td>0.245</td>\n",
              "      <td>30</td>\n",
              "      <td>0</td>\n",
              "    </tr>\n",
              "    <tr>\n",
              "      <th>766</th>\n",
              "      <td>1</td>\n",
              "      <td>126</td>\n",
              "      <td>60</td>\n",
              "      <td>0</td>\n",
              "      <td>0</td>\n",
              "      <td>30.1</td>\n",
              "      <td>0.349</td>\n",
              "      <td>47</td>\n",
              "      <td>1</td>\n",
              "    </tr>\n",
              "    <tr>\n",
              "      <th>767</th>\n",
              "      <td>1</td>\n",
              "      <td>93</td>\n",
              "      <td>70</td>\n",
              "      <td>31</td>\n",
              "      <td>0</td>\n",
              "      <td>30.4</td>\n",
              "      <td>0.315</td>\n",
              "      <td>23</td>\n",
              "      <td>0</td>\n",
              "    </tr>\n",
              "  </tbody>\n",
              "</table>\n",
              "<p>768 rows × 9 columns</p>\n",
              "</div>\n",
              "    <div class=\"colab-df-buttons\">\n",
              "\n",
              "  <div class=\"colab-df-container\">\n",
              "    <button class=\"colab-df-convert\" onclick=\"convertToInteractive('df-5e34d2d8-21db-41dd-b9c1-efa09ca589cb')\"\n",
              "            title=\"Convert this dataframe to an interactive table.\"\n",
              "            style=\"display:none;\">\n",
              "\n",
              "  <svg xmlns=\"http://www.w3.org/2000/svg\" height=\"24px\" viewBox=\"0 -960 960 960\">\n",
              "    <path d=\"M120-120v-720h720v720H120Zm60-500h600v-160H180v160Zm220 220h160v-160H400v160Zm0 220h160v-160H400v160ZM180-400h160v-160H180v160Zm440 0h160v-160H620v160ZM180-180h160v-160H180v160Zm440 0h160v-160H620v160Z\"/>\n",
              "  </svg>\n",
              "    </button>\n",
              "\n",
              "  <style>\n",
              "    .colab-df-container {\n",
              "      display:flex;\n",
              "      gap: 12px;\n",
              "    }\n",
              "\n",
              "    .colab-df-convert {\n",
              "      background-color: #E8F0FE;\n",
              "      border: none;\n",
              "      border-radius: 50%;\n",
              "      cursor: pointer;\n",
              "      display: none;\n",
              "      fill: #1967D2;\n",
              "      height: 32px;\n",
              "      padding: 0 0 0 0;\n",
              "      width: 32px;\n",
              "    }\n",
              "\n",
              "    .colab-df-convert:hover {\n",
              "      background-color: #E2EBFA;\n",
              "      box-shadow: 0px 1px 2px rgba(60, 64, 67, 0.3), 0px 1px 3px 1px rgba(60, 64, 67, 0.15);\n",
              "      fill: #174EA6;\n",
              "    }\n",
              "\n",
              "    .colab-df-buttons div {\n",
              "      margin-bottom: 4px;\n",
              "    }\n",
              "\n",
              "    [theme=dark] .colab-df-convert {\n",
              "      background-color: #3B4455;\n",
              "      fill: #D2E3FC;\n",
              "    }\n",
              "\n",
              "    [theme=dark] .colab-df-convert:hover {\n",
              "      background-color: #434B5C;\n",
              "      box-shadow: 0px 1px 3px 1px rgba(0, 0, 0, 0.15);\n",
              "      filter: drop-shadow(0px 1px 2px rgba(0, 0, 0, 0.3));\n",
              "      fill: #FFFFFF;\n",
              "    }\n",
              "  </style>\n",
              "\n",
              "    <script>\n",
              "      const buttonEl =\n",
              "        document.querySelector('#df-5e34d2d8-21db-41dd-b9c1-efa09ca589cb button.colab-df-convert');\n",
              "      buttonEl.style.display =\n",
              "        google.colab.kernel.accessAllowed ? 'block' : 'none';\n",
              "\n",
              "      async function convertToInteractive(key) {\n",
              "        const element = document.querySelector('#df-5e34d2d8-21db-41dd-b9c1-efa09ca589cb');\n",
              "        const dataTable =\n",
              "          await google.colab.kernel.invokeFunction('convertToInteractive',\n",
              "                                                    [key], {});\n",
              "        if (!dataTable) return;\n",
              "\n",
              "        const docLinkHtml = 'Like what you see? Visit the ' +\n",
              "          '<a target=\"_blank\" href=https://colab.research.google.com/notebooks/data_table.ipynb>data table notebook</a>'\n",
              "          + ' to learn more about interactive tables.';\n",
              "        element.innerHTML = '';\n",
              "        dataTable['output_type'] = 'display_data';\n",
              "        await google.colab.output.renderOutput(dataTable, element);\n",
              "        const docLink = document.createElement('div');\n",
              "        docLink.innerHTML = docLinkHtml;\n",
              "        element.appendChild(docLink);\n",
              "      }\n",
              "    </script>\n",
              "  </div>\n",
              "\n",
              "\n",
              "<div id=\"df-270fcd7b-fe5e-4571-8ee7-26a251206f04\">\n",
              "  <button class=\"colab-df-quickchart\" onclick=\"quickchart('df-270fcd7b-fe5e-4571-8ee7-26a251206f04')\"\n",
              "            title=\"Suggest charts\"\n",
              "            style=\"display:none;\">\n",
              "\n",
              "<svg xmlns=\"http://www.w3.org/2000/svg\" height=\"24px\"viewBox=\"0 0 24 24\"\n",
              "     width=\"24px\">\n",
              "    <g>\n",
              "        <path d=\"M19 3H5c-1.1 0-2 .9-2 2v14c0 1.1.9 2 2 2h14c1.1 0 2-.9 2-2V5c0-1.1-.9-2-2-2zM9 17H7v-7h2v7zm4 0h-2V7h2v10zm4 0h-2v-4h2v4z\"/>\n",
              "    </g>\n",
              "</svg>\n",
              "  </button>\n",
              "\n",
              "<style>\n",
              "  .colab-df-quickchart {\n",
              "      --bg-color: #E8F0FE;\n",
              "      --fill-color: #1967D2;\n",
              "      --hover-bg-color: #E2EBFA;\n",
              "      --hover-fill-color: #174EA6;\n",
              "      --disabled-fill-color: #AAA;\n",
              "      --disabled-bg-color: #DDD;\n",
              "  }\n",
              "\n",
              "  [theme=dark] .colab-df-quickchart {\n",
              "      --bg-color: #3B4455;\n",
              "      --fill-color: #D2E3FC;\n",
              "      --hover-bg-color: #434B5C;\n",
              "      --hover-fill-color: #FFFFFF;\n",
              "      --disabled-bg-color: #3B4455;\n",
              "      --disabled-fill-color: #666;\n",
              "  }\n",
              "\n",
              "  .colab-df-quickchart {\n",
              "    background-color: var(--bg-color);\n",
              "    border: none;\n",
              "    border-radius: 50%;\n",
              "    cursor: pointer;\n",
              "    display: none;\n",
              "    fill: var(--fill-color);\n",
              "    height: 32px;\n",
              "    padding: 0;\n",
              "    width: 32px;\n",
              "  }\n",
              "\n",
              "  .colab-df-quickchart:hover {\n",
              "    background-color: var(--hover-bg-color);\n",
              "    box-shadow: 0 1px 2px rgba(60, 64, 67, 0.3), 0 1px 3px 1px rgba(60, 64, 67, 0.15);\n",
              "    fill: var(--button-hover-fill-color);\n",
              "  }\n",
              "\n",
              "  .colab-df-quickchart-complete:disabled,\n",
              "  .colab-df-quickchart-complete:disabled:hover {\n",
              "    background-color: var(--disabled-bg-color);\n",
              "    fill: var(--disabled-fill-color);\n",
              "    box-shadow: none;\n",
              "  }\n",
              "\n",
              "  .colab-df-spinner {\n",
              "    border: 2px solid var(--fill-color);\n",
              "    border-color: transparent;\n",
              "    border-bottom-color: var(--fill-color);\n",
              "    animation:\n",
              "      spin 1s steps(1) infinite;\n",
              "  }\n",
              "\n",
              "  @keyframes spin {\n",
              "    0% {\n",
              "      border-color: transparent;\n",
              "      border-bottom-color: var(--fill-color);\n",
              "      border-left-color: var(--fill-color);\n",
              "    }\n",
              "    20% {\n",
              "      border-color: transparent;\n",
              "      border-left-color: var(--fill-color);\n",
              "      border-top-color: var(--fill-color);\n",
              "    }\n",
              "    30% {\n",
              "      border-color: transparent;\n",
              "      border-left-color: var(--fill-color);\n",
              "      border-top-color: var(--fill-color);\n",
              "      border-right-color: var(--fill-color);\n",
              "    }\n",
              "    40% {\n",
              "      border-color: transparent;\n",
              "      border-right-color: var(--fill-color);\n",
              "      border-top-color: var(--fill-color);\n",
              "    }\n",
              "    60% {\n",
              "      border-color: transparent;\n",
              "      border-right-color: var(--fill-color);\n",
              "    }\n",
              "    80% {\n",
              "      border-color: transparent;\n",
              "      border-right-color: var(--fill-color);\n",
              "      border-bottom-color: var(--fill-color);\n",
              "    }\n",
              "    90% {\n",
              "      border-color: transparent;\n",
              "      border-bottom-color: var(--fill-color);\n",
              "    }\n",
              "  }\n",
              "</style>\n",
              "\n",
              "  <script>\n",
              "    async function quickchart(key) {\n",
              "      const quickchartButtonEl =\n",
              "        document.querySelector('#' + key + ' button');\n",
              "      quickchartButtonEl.disabled = true;  // To prevent multiple clicks.\n",
              "      quickchartButtonEl.classList.add('colab-df-spinner');\n",
              "      try {\n",
              "        const charts = await google.colab.kernel.invokeFunction(\n",
              "            'suggestCharts', [key], {});\n",
              "      } catch (error) {\n",
              "        console.error('Error during call to suggestCharts:', error);\n",
              "      }\n",
              "      quickchartButtonEl.classList.remove('colab-df-spinner');\n",
              "      quickchartButtonEl.classList.add('colab-df-quickchart-complete');\n",
              "    }\n",
              "    (() => {\n",
              "      let quickchartButtonEl =\n",
              "        document.querySelector('#df-270fcd7b-fe5e-4571-8ee7-26a251206f04 button');\n",
              "      quickchartButtonEl.style.display =\n",
              "        google.colab.kernel.accessAllowed ? 'block' : 'none';\n",
              "    })();\n",
              "  </script>\n",
              "</div>\n",
              "    </div>\n",
              "  </div>\n"
            ],
            "application/vnd.google.colaboratory.intrinsic+json": {
              "type": "dataframe",
              "variable_name": "dataframe",
              "summary": "{\n  \"name\": \"dataframe\",\n  \"rows\": 768,\n  \"fields\": [\n    {\n      \"column\": \"Pregnancies\",\n      \"properties\": {\n        \"dtype\": \"number\",\n        \"std\": 3,\n        \"min\": 0,\n        \"max\": 17,\n        \"num_unique_values\": 17,\n        \"samples\": [\n          6,\n          1,\n          3\n        ],\n        \"semantic_type\": \"\",\n        \"description\": \"\"\n      }\n    },\n    {\n      \"column\": \"Glucose\",\n      \"properties\": {\n        \"dtype\": \"number\",\n        \"std\": 31,\n        \"min\": 0,\n        \"max\": 199,\n        \"num_unique_values\": 136,\n        \"samples\": [\n          151,\n          101,\n          112\n        ],\n        \"semantic_type\": \"\",\n        \"description\": \"\"\n      }\n    },\n    {\n      \"column\": \"BloodPressure\",\n      \"properties\": {\n        \"dtype\": \"number\",\n        \"std\": 19,\n        \"min\": 0,\n        \"max\": 122,\n        \"num_unique_values\": 47,\n        \"samples\": [\n          86,\n          46,\n          85\n        ],\n        \"semantic_type\": \"\",\n        \"description\": \"\"\n      }\n    },\n    {\n      \"column\": \"SkinThickness\",\n      \"properties\": {\n        \"dtype\": \"number\",\n        \"std\": 15,\n        \"min\": 0,\n        \"max\": 99,\n        \"num_unique_values\": 51,\n        \"samples\": [\n          7,\n          12,\n          48\n        ],\n        \"semantic_type\": \"\",\n        \"description\": \"\"\n      }\n    },\n    {\n      \"column\": \"Insulin\",\n      \"properties\": {\n        \"dtype\": \"number\",\n        \"std\": 115,\n        \"min\": 0,\n        \"max\": 846,\n        \"num_unique_values\": 186,\n        \"samples\": [\n          52,\n          41,\n          183\n        ],\n        \"semantic_type\": \"\",\n        \"description\": \"\"\n      }\n    },\n    {\n      \"column\": \"BMI\",\n      \"properties\": {\n        \"dtype\": \"number\",\n        \"std\": 7.884160320375446,\n        \"min\": 0.0,\n        \"max\": 67.1,\n        \"num_unique_values\": 248,\n        \"samples\": [\n          19.9,\n          31.0,\n          38.1\n        ],\n        \"semantic_type\": \"\",\n        \"description\": \"\"\n      }\n    },\n    {\n      \"column\": \"DiabetesPedigreeFunction\",\n      \"properties\": {\n        \"dtype\": \"number\",\n        \"std\": 0.3313285950127749,\n        \"min\": 0.078,\n        \"max\": 2.42,\n        \"num_unique_values\": 517,\n        \"samples\": [\n          1.731,\n          0.426,\n          0.138\n        ],\n        \"semantic_type\": \"\",\n        \"description\": \"\"\n      }\n    },\n    {\n      \"column\": \"Age\",\n      \"properties\": {\n        \"dtype\": \"number\",\n        \"std\": 11,\n        \"min\": 21,\n        \"max\": 81,\n        \"num_unique_values\": 52,\n        \"samples\": [\n          60,\n          47,\n          72\n        ],\n        \"semantic_type\": \"\",\n        \"description\": \"\"\n      }\n    },\n    {\n      \"column\": \"Outcome\",\n      \"properties\": {\n        \"dtype\": \"number\",\n        \"std\": 0,\n        \"min\": 0,\n        \"max\": 1,\n        \"num_unique_values\": 2,\n        \"samples\": [\n          0,\n          1\n        ],\n        \"semantic_type\": \"\",\n        \"description\": \"\"\n      }\n    }\n  ]\n}"
            }
          },
          "metadata": {},
          "execution_count": 3
        }
      ]
    },
    {
      "cell_type": "markdown",
      "source": [
        "### Этап 2"
      ],
      "metadata": {
        "id": "dAdy9GCQ4G7t"
      }
    },
    {
      "cell_type": "markdown",
      "source": [
        "**Выделение вектора признаков**"
      ],
      "metadata": {
        "id": "nI9bQqm8KEJd"
      }
    },
    {
      "cell_type": "markdown",
      "source": [
        "Перед тем, как выполнить разделение данных, рассмотрим используемый набор данных. Это набор данных по диабету. В наборе учавствует множество данных, таких как:\n",
        "\n",
        "* Беременность,\n",
        "* Уровень глюкозы,\n",
        "* Кровяное давление,\n",
        "* Состояние кожи,\n",
        "* Инсулин,\n",
        "* ИМТ,\n",
        "* Родословная диабета,\n",
        "* Возраст,\n",
        "* Результат.\n",
        "\n",
        "[Ссылка на Dataset](https://www.kaggle.com/datasets/pritsheta/diabetes-dataset).\n",
        "\n"
      ],
      "metadata": {
        "id": "OehRHYPQKFVX"
      }
    },
    {
      "cell_type": "markdown",
      "source": [
        "Совершенно очевидным становится тот факт, что в качестве признаков могут и должны быть использованы все столбцы, кроме крайнего. На основании данного принципа и будем производить разбиение даных."
      ],
      "metadata": {
        "id": "IiVdBylwKjLy"
      }
    },
    {
      "cell_type": "code",
      "source": [
        "X_data = dataframe.drop(\"Outcome\", axis=1)\n",
        "y_target = dataframe[\"Outcome\"]"
      ],
      "metadata": {
        "id": "i7XQueWpK5KT"
      },
      "execution_count": 4,
      "outputs": []
    },
    {
      "cell_type": "markdown",
      "source": [
        "**Разделение данных на тестовую и тренировочную выборки**"
      ],
      "metadata": {
        "id": "VUCqwknSKdUq"
      }
    },
    {
      "cell_type": "markdown",
      "source": [
        "Для разделения данных на тренировочные и тестовые выборки воспользуемся стандартной командой и произведем разбиение в слетующем процентном соотношении 30/70 (30 - тестовая выборка, 70 - обучающая)."
      ],
      "metadata": {
        "id": "_f32xj-kLW2R"
      }
    },
    {
      "cell_type": "code",
      "source": [
        "X_train, X_test, y_train, y_test = train_test_split(X_data, y_target, test_size=.35, random_state=42)"
      ],
      "metadata": {
        "id": "b0QIS4SALXzZ"
      },
      "execution_count": 5,
      "outputs": []
    },
    {
      "cell_type": "markdown",
      "source": [
        "**Подготовка нормализованного набора данных**"
      ],
      "metadata": {
        "id": "bmGGXyuqLanL"
      }
    },
    {
      "cell_type": "code",
      "source": [
        "from sklearn.preprocessing import StandardScaler\n",
        "scaler = StandardScaler()\n",
        "X_train_scaler = scaler.fit_transform(X_train)\n",
        "X_test_scaler = scaler.fit_transform(X_test)"
      ],
      "metadata": {
        "id": "UP9ZNoSaLemp"
      },
      "execution_count": 6,
      "outputs": []
    },
    {
      "cell_type": "markdown",
      "source": [
        "### Этап 3. Выбор классификатора"
      ],
      "metadata": {
        "id": "TBeF-wHLLjvB"
      }
    },
    {
      "cell_type": "markdown",
      "source": [
        "**kNN**"
      ],
      "metadata": {
        "id": "blRYsSsNLrA7"
      }
    },
    {
      "cell_type": "code",
      "source": [
        "classifierKNN = KNeighborsClassifier()\n",
        "classifierKNN.fit(X_train_scaler, y_train)\n",
        "classifierPredictionKNN = classifierKNN.predict(X_test_scaler)"
      ],
      "metadata": {
        "id": "4-5kQMX0LuL7"
      },
      "execution_count": 7,
      "outputs": []
    },
    {
      "cell_type": "code",
      "source": [
        "print(\"Accuracy KNeighborsClassifier:\", accuracy_score(y_test, classifierPredictionKNN) * 100)"
      ],
      "metadata": {
        "id": "v49KpvzpL05t",
        "colab": {
          "base_uri": "https://localhost:8080/"
        },
        "outputId": "d3872d8e-2953-45bf-e2cd-a90266de1dbe"
      },
      "execution_count": 8,
      "outputs": [
        {
          "output_type": "stream",
          "name": "stdout",
          "text": [
            "Accuracy KNeighborsClassifier: 71.74721189591078\n"
          ]
        }
      ]
    },
    {
      "cell_type": "markdown",
      "source": [
        "**DecisionTreeClassifier**"
      ],
      "metadata": {
        "id": "U5KTjAjEL3fX"
      }
    },
    {
      "cell_type": "code",
      "source": [
        "classifierDTC = DecisionTreeClassifier()\n",
        "classifierDTC.fit(X_train_scaler, y_train)\n",
        "classifierPredictionDTC = classifierDTC.predict(X_test_scaler)"
      ],
      "metadata": {
        "id": "YnG8Zh2YL5bf"
      },
      "execution_count": 9,
      "outputs": []
    },
    {
      "cell_type": "code",
      "source": [
        "print(\"Accuracy DecisionTreeClassifier:\", accuracy_score(y_test, classifierPredictionDTC)*100)"
      ],
      "metadata": {
        "id": "Pp5Bks2tL-Fn",
        "colab": {
          "base_uri": "https://localhost:8080/"
        },
        "outputId": "236eb991-4a30-4746-ae88-5315ed45b204"
      },
      "execution_count": 10,
      "outputs": [
        {
          "output_type": "stream",
          "name": "stdout",
          "text": [
            "Accuracy DecisionTreeClassifier: 72.4907063197026\n"
          ]
        }
      ]
    },
    {
      "cell_type": "markdown",
      "source": [
        "**RandomForestClassifier**"
      ],
      "metadata": {
        "id": "PW3ZX3BsL-2X"
      }
    },
    {
      "cell_type": "code",
      "source": [
        "classifierRF = RandomForestClassifier()\n",
        "classifierRF.fit(X_train_scaler, y_train)\n",
        "classifierPredictionRF = classifierRF.predict(X_test_scaler)"
      ],
      "metadata": {
        "id": "6iuqHDSUMC63"
      },
      "execution_count": 11,
      "outputs": []
    },
    {
      "cell_type": "code",
      "source": [
        "print(\"Accuracy RandomForestClassifier:\", accuracy_score(y_test, classifierPredictionRF) * 100)"
      ],
      "metadata": {
        "id": "wYp1aA4xTYVG",
        "colab": {
          "base_uri": "https://localhost:8080/"
        },
        "outputId": "05537227-8500-4742-fc87-b3c03809e3f0"
      },
      "execution_count": 12,
      "outputs": [
        {
          "output_type": "stream",
          "name": "stdout",
          "text": [
            "Accuracy RandomForestClassifier: 75.09293680297398\n"
          ]
        }
      ]
    },
    {
      "cell_type": "markdown",
      "source": [
        "### Этап 4. Определение оптимальных значений гиперпараметров"
      ],
      "metadata": {
        "id": "vpb626xOMLGp"
      }
    },
    {
      "cell_type": "markdown",
      "source": [
        "**kNN**"
      ],
      "metadata": {
        "id": "NR1k1h5rMOqY"
      }
    },
    {
      "cell_type": "code",
      "source": [
        "KNeighborsParams = {'n_neighbors': range(1, 32)}\n",
        "KNeighborsGSCV = GridSearchCV(classifierKNN, KNeighborsParams, scoring=\"roc_auc\")"
      ],
      "metadata": {
        "id": "78Jqkj3kMRqa"
      },
      "execution_count": 13,
      "outputs": []
    },
    {
      "cell_type": "markdown",
      "source": [
        "**DecisionTreeClassifier**"
      ],
      "metadata": {
        "id": "f6eRUnwoMU6j"
      }
    },
    {
      "cell_type": "code",
      "source": [
        "DecisionTreeParams = {\n",
        "    \"max_depth\": range(1, 33),\n",
        "    \"min_samples_split\": np.linspace(0.01, 0.1, 10, endpoint=True),\n",
        "    \"min_samples_leaf\": np.linspace(0.01, 0.1, 10, endpoint=True),\n",
        "}\n",
        "DecisionTreeGSCV = GridSearchCV(classifierDTC, DecisionTreeParams)"
      ],
      "metadata": {
        "id": "7iMW2aB5cFXn"
      },
      "execution_count": 14,
      "outputs": []
    },
    {
      "cell_type": "markdown",
      "source": [
        "**RandomForestClassifier**"
      ],
      "metadata": {
        "id": "xlTACpe5Mbcj"
      }
    },
    {
      "cell_type": "code",
      "source": [
        "RandomForestParams = {\"n_estimators\": range(1, 32)}\n",
        "RandomForestGSCV = GridSearchCV(classifierRF, RandomForestParams)"
      ],
      "metadata": {
        "id": "h0pm_vXXMfVD"
      },
      "execution_count": 15,
      "outputs": []
    },
    {
      "cell_type": "markdown",
      "source": [
        "### Этап 5. Выбор классификатора с учетом гиперпараметров"
      ],
      "metadata": {
        "id": "aDbRq8vjMh0S"
      }
    },
    {
      "cell_type": "markdown",
      "source": [
        "**kNN**"
      ],
      "metadata": {
        "id": "MIPNFoqTMoDE"
      }
    },
    {
      "cell_type": "code",
      "source": [
        "KNeighborsGSCV.fit(X_train_scaler, y_train)\n",
        "print(KNeighborsGSCV.best_estimator_)\n",
        "KNeighborsPredictGSCV = KNeighborsGSCV.predict(X_test_scaler)\n",
        "print(\"Accuracy KNeighborsClassifier with optimal hyperparameters:\", accuracy_score(y_test, KNeighborsPredictGSCV) * 100)"
      ],
      "metadata": {
        "id": "YWhLOLDRMrEl",
        "colab": {
          "base_uri": "https://localhost:8080/"
        },
        "outputId": "fdbdc522-e917-45ef-d748-49b25fb389be"
      },
      "execution_count": 16,
      "outputs": [
        {
          "output_type": "stream",
          "name": "stdout",
          "text": [
            "KNeighborsClassifier(n_neighbors=31)\n",
            "Accuracy KNeighborsClassifier with optimal hyperparameters: 75.09293680297398\n"
          ]
        }
      ]
    },
    {
      "cell_type": "markdown",
      "source": [
        "**DecisionTreeClassifier**"
      ],
      "metadata": {
        "id": "jKR9Zf9jMu7d"
      }
    },
    {
      "cell_type": "code",
      "source": [
        "DecisionTreeGSCV.fit(X_train_scaler, y_train)\n",
        "print(DecisionTreeGSCV.best_estimator_)\n",
        "DecisionTreeGSCV_Predict = DecisionTreeGSCV.predict(X_test_scaler)\n",
        "print(\"Accuracy DecisionTreeClassifier with optimal hyperparameters:\", accuracy_score(y_test, DecisionTreeGSCV_Predict) * 100)"
      ],
      "metadata": {
        "id": "bHqjOWssMuS9",
        "colab": {
          "base_uri": "https://localhost:8080/"
        },
        "outputId": "03b29d9c-5b6e-4d5b-f18d-6b13430433ba"
      },
      "execution_count": 17,
      "outputs": [
        {
          "output_type": "stream",
          "name": "stdout",
          "text": [
            "DecisionTreeClassifier(max_depth=4, min_samples_leaf=0.030000000000000006,\n",
            "                       min_samples_split=0.09000000000000001)\n",
            "Accuracy DecisionTreeClassifier with optimal hyperparameters: 72.86245353159852\n"
          ]
        }
      ]
    },
    {
      "cell_type": "markdown",
      "source": [
        "**RandomForestClassifier**"
      ],
      "metadata": {
        "id": "dzdqt44UMzB4"
      }
    },
    {
      "cell_type": "code",
      "source": [
        "RandomForestGSCV.fit(X_train_scaler, y_train)\n",
        "print(RandomForestGSCV.best_estimator_)\n",
        "RandomForestGSCV_Predict = RandomForestGSCV.predict(X_test_scaler)\n",
        "print(\"Accuracy RandomForestClassifier with optimal hyperparameters:\", accuracy_score(y_test, RandomForestGSCV_Predict) * 100)"
      ],
      "metadata": {
        "id": "GIK3NtqZMzMF",
        "colab": {
          "base_uri": "https://localhost:8080/"
        },
        "outputId": "a369a2a3-51db-4f46-c004-5b11c2cf6e0a"
      },
      "execution_count": 18,
      "outputs": [
        {
          "output_type": "stream",
          "name": "stdout",
          "text": [
            "RandomForestClassifier(n_estimators=26)\n",
            "Accuracy RandomForestClassifier with optimal hyperparameters: 75.8364312267658\n"
          ]
        }
      ]
    }
  ]
}